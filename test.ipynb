{
 "cells": [
  {
   "cell_type": "code",
   "execution_count": 2,
   "metadata": {},
   "outputs": [],
   "source": [
    "## import librerie\n",
    "\n",
    "## generiche\n",
    "import numpy as np\n",
    "import pandas as pd\n",
    "import geopandas as gpd\n",
    "import datetime\n",
    "\n",
    "## per grafici\n",
    "import matplotlib.pyplot as plt\n",
    "import seaborn as sns\n",
    "\n",
    "## filtra_intersezioni\n",
    "import shapely\n",
    "from shapely.geometry import LineString\n"
   ]
  },
  {
   "cell_type": "code",
   "execution_count": 10,
   "metadata": {},
   "outputs": [
    {
     "data": {
      "text/html": [
       "<div>\n",
       "<style scoped>\n",
       "    .dataframe tbody tr th:only-of-type {\n",
       "        vertical-align: middle;\n",
       "    }\n",
       "\n",
       "    .dataframe tbody tr th {\n",
       "        vertical-align: top;\n",
       "    }\n",
       "\n",
       "    .dataframe thead th {\n",
       "        text-align: right;\n",
       "    }\n",
       "</style>\n",
       "<table border=\"1\" class=\"dataframe\">\n",
       "  <thead>\n",
       "    <tr style=\"text-align: right;\">\n",
       "      <th></th>\n",
       "      <th>index</th>\n",
       "      <th>unixtime_start</th>\n",
       "      <th>unixtime_end</th>\n",
       "      <th>stato</th>\n",
       "    </tr>\n",
       "  </thead>\n",
       "  <tbody>\n",
       "    <tr>\n",
       "      <th>0</th>\n",
       "      <td>0</td>\n",
       "      <td>1734859131</td>\n",
       "      <td>1734859515</td>\n",
       "      <td>Valvan</td>\n",
       "    </tr>\n",
       "    <tr>\n",
       "      <th>1</th>\n",
       "      <td>10</td>\n",
       "      <td>1734859650</td>\n",
       "      <td>1734860191</td>\n",
       "      <td>Discesa</td>\n",
       "    </tr>\n",
       "    <tr>\n",
       "      <th>2</th>\n",
       "      <td>1</td>\n",
       "      <td>1734860924</td>\n",
       "      <td>1734861176</td>\n",
       "      <td>Cuel d’Ajar</td>\n",
       "    </tr>\n",
       "    <tr>\n",
       "      <th>3</th>\n",
       "      <td>11</td>\n",
       "      <td>1734861215</td>\n",
       "      <td>1734861429</td>\n",
       "      <td>Discesa</td>\n",
       "    </tr>\n",
       "    <tr>\n",
       "      <th>4</th>\n",
       "      <td>2</td>\n",
       "      <td>1734861574</td>\n",
       "      <td>1734861854</td>\n",
       "      <td>Giro d’Italia</td>\n",
       "    </tr>\n",
       "  </tbody>\n",
       "</table>\n",
       "</div>"
      ],
      "text/plain": [
       "   index  unixtime_start  unixtime_end          stato\n",
       "0      0      1734859131    1734859515         Valvan\n",
       "1     10      1734859650    1734860191        Discesa\n",
       "2      1      1734860924    1734861176    Cuel d’Ajar\n",
       "3     11      1734861215    1734861429        Discesa\n",
       "4      2      1734861574    1734861854  Giro d’Italia"
      ]
     },
     "execution_count": 10,
     "metadata": {},
     "output_type": "execute_result"
    }
   ],
   "source": [
    "df1= pd.read_csv(\"data/salite.csv\")\n",
    "\n",
    "df2= pd.read_csv(\"data/discese.csv\")\n",
    "\n",
    "# Unisci i due DataFrame uno sopra l'altro\n",
    "df = pd.concat([df1, df2], ignore_index=True)\n",
    "\n",
    "# Ordina il DataFrame risultante in base alla colonna 'unixtime_start'\n",
    "df_sorted = df.sort_values(by='unixtime_start')\n",
    "\n",
    "\n",
    "\n",
    "# Mostra il DataFrame ordinato\n",
    "df_sorted.head()\n"
   ]
  }
 ],
 "metadata": {
  "kernelspec": {
   "display_name": "analisi-dati",
   "language": "python",
   "name": "python3"
  },
  "language_info": {
   "codemirror_mode": {
    "name": "ipython",
    "version": 3
   },
   "file_extension": ".py",
   "mimetype": "text/x-python",
   "name": "python",
   "nbconvert_exporter": "python",
   "pygments_lexer": "ipython3",
   "version": "3.13.1"
  }
 },
 "nbformat": 4,
 "nbformat_minor": 2
}
